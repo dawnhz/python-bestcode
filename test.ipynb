{
  "nbformat": 4,
  "nbformat_minor": 0,
  "metadata": {
    "colab": {
      "name": "test.ipynb",
      "provenance": [],
      "include_colab_link": true
    },
    "kernelspec": {
      "name": "python3",
      "display_name": "Python 3"
    }
  },
  "cells": [
    {
      "cell_type": "markdown",
      "metadata": {
        "id": "view-in-github",
        "colab_type": "text"
      },
      "source": [
        "<a href=\"https://colab.research.google.com/github/dawnhz/python-bestcode/blob/master/test.ipynb\" target=\"_parent\"><img src=\"https://colab.research.google.com/assets/colab-badge.svg\" alt=\"Open In Colab\"/></a>"
      ]
    },
    {
      "cell_type": "code",
      "metadata": {
        "id": "t7RzQPXFZWwb",
        "colab_type": "code",
        "colab": {
          "base_uri": "https://localhost:8080/",
          "height": 35
        },
        "outputId": "7a2d8177-aebc-421f-f28e-3798c7e4617f"
      },
      "source": [
        "def deduplication(self, nums):#找出排序数组的索引\n",
        "    for i in range(len(nums)):\n",
        "        if nums[i]==self:\n",
        "            return i\n",
        "    i=0\n",
        "    for x in nums:\n",
        "        if self>x:\n",
        "            i+=1\n",
        "    return i\n",
        "print(deduplication(5, [1,3,5,6]))"
      ],
      "execution_count": 7,
      "outputs": [
        {
          "output_type": "stream",
          "text": [
            "2\n"
          ],
          "name": "stdout"
        }
      ]
    },
    {
      "cell_type": "markdown",
      "metadata": {
        "id": "3WeDh0xnscxU",
        "colab_type": "text"
      },
      "source": [
        "dsadsada"
      ]
    }
  ]
}